{
 "cells": [
  {
   "cell_type": "code",
   "execution_count": 2,
   "id": "ef68e1ea-1219-4490-8675-ed23cd0c888d",
   "metadata": {},
   "outputs": [
    {
     "name": "stdout",
     "output_type": "stream",
     "text": [
      "Hello World\n"
     ]
    }
   ],
   "source": [
    "print(\"Hello World\")\n"
   ]
  },
  {
   "cell_type": "code",
   "execution_count": 1,
   "id": "f4a53655-625a-4a24-9716-acf43940d0b9",
   "metadata": {},
   "outputs": [
    {
     "name": "stdin",
     "output_type": "stream",
     "text": [
      "Enter a number: 10\n",
      "Enter a number: 20\n"
     ]
    },
    {
     "name": "stdout",
     "output_type": "stream",
     "text": [
      "Sum of a and b: 30\n"
     ]
    }
   ],
   "source": [
    "#to add two numbers\n",
    "a = int(input(\"Enter a number:\"))\n",
    "b = int(input(\"Enter a number:\"))\n",
    "print(\"Sum of a and b:\",a+b)"
   ]
  },
  {
   "cell_type": "code",
   "execution_count": 4,
   "id": "33cb53ea-e6c8-47c0-8577-59d19c172dc9",
   "metadata": {},
   "outputs": [
    {
     "name": "stdin",
     "output_type": "stream",
     "text": [
      "Enter a number 2\n"
     ]
    },
    {
     "name": "stdout",
     "output_type": "stream",
     "text": [
      "The square root of 2.000 is 1.414\n"
     ]
    }
   ],
   "source": [
    "#to find square root of a given number\n",
    "num = float(input(\"Enter a number\"))\n",
    "num_sqrt = num ** 0.5\n",
    "print(\"The square root of %0.3f is %0.3f\"%(num,num_sqrt))\n"
   ]
  },
  {
   "cell_type": "code",
   "execution_count": 7,
   "id": "101292de-1766-4e82-aca8-7a6fe186ffea",
   "metadata": {},
   "outputs": [
    {
     "name": "stdin",
     "output_type": "stream",
     "text": [
      "Enter first side of the triangle: 5\n",
      "Enter second side of the triangle: 6\n",
      "Enter third side of the triangle: 7\n"
     ]
    },
    {
     "name": "stdout",
     "output_type": "stream",
     "text": [
      "The area of the given triangle is 14.70\n"
     ]
    }
   ],
   "source": [
    "#to calculate area of triangle using Heron's formula\n",
    "# if a,b,c are three sides of a triangle, then \n",
    "# s= (a+b+c)/2\n",
    "# area = sqrt(s*(s-a)*(s-b)*(s-c))\n",
    "a = float(input(\"Enter first side of the triangle:\"))\n",
    "b = float(input(\"Enter second side of the triangle:\"))\n",
    "c = float(input(\"Enter third side of the triangle:\"))\n",
    "s = (a+b+c)//2\n",
    "area = (s*(s-a)*(s-b)*(s-c))**0.5\n",
    "print(\"The area of the given triangle is %0.2f\"%area)"
   ]
  },
  {
   "cell_type": "code",
   "execution_count": 21,
   "id": "6e8c2c27-c960-4c4d-b211-11086fc50efc",
   "metadata": {},
   "outputs": [
    {
     "name": "stdin",
     "output_type": "stream",
     "text": [
      "Enter a value 1\n",
      "Enter b value 5\n",
      "Enter c value 6\n"
     ]
    },
    {
     "name": "stdout",
     "output_type": "stream",
     "text": [
      "The solutions of given quadratic equations are -2.0 and -3.0\n"
     ]
    }
   ],
   "source": [
    "# solve quadratic equation ax^2+bx+c = 0 a,b,c are real numbers\n",
    "# formula -b+-sqrt(b^2-4ac) here b^2-4ac is discriminant\n",
    "\n",
    "a = int(input(\"Enter a value\")) \n",
    "b = int(input(\"Enter b value\"))\n",
    "c = int(input(\"Enter c value\"))\n",
    "\n",
    "#calculating the discriminant\n",
    "d = (b**2)-(4*a*c)\n",
    "# calculating the solutions\n",
    "sol1 = (-b +(d**0.5))/(2*a)\n",
    "sol2 = (-b -(d**0.5))/(2*a)\n",
    "\n",
    "print(\"The solutions of given quadratic equations are {0} and {1}\".format(sol1,sol2))"
   ]
  },
  {
   "cell_type": "code",
   "execution_count": 20,
   "id": "02316afd-f37b-4bbe-9200-3c020e78f642",
   "metadata": {},
   "outputs": [
    {
     "name": "stdout",
     "output_type": "stream",
     "text": [
      "Before Swap:\n",
      "Value of a is: 10\n",
      "Value of b is: 20\n",
      "After Swap:\n",
      "Value of a is: 10\n",
      "Value of b is: 20\n"
     ]
    }
   ],
   "source": [
    "#swap two variables\n",
    "def swap(a,b):\n",
    "    temp = a\n",
    "    a = b\n",
    "    b = temp\n",
    "def display(a,b):\n",
    "    print(\"Value of a is:\",a)\n",
    "    print(\"Value of b is:\",b)\n",
    "a = 10\n",
    "b = 20\n",
    "print(\"Before Swap:\")\n",
    "display(a,b)\n",
    "print(\"After Swap:\")\n",
    "display(a,b)"
   ]
  },
  {
   "cell_type": "code",
   "execution_count": null,
   "id": "8e270fdb-c8aa-4ac5-a56d-086d3b02027e",
   "metadata": {},
   "outputs": [],
   "source": []
  }
 ],
 "metadata": {
  "kernelspec": {
   "display_name": "Python 3 (ipykernel)",
   "language": "python",
   "name": "python3"
  },
  "language_info": {
   "codemirror_mode": {
    "name": "ipython",
    "version": 3
   },
   "file_extension": ".py",
   "mimetype": "text/x-python",
   "name": "python",
   "nbconvert_exporter": "python",
   "pygments_lexer": "ipython3",
   "version": "3.12.8"
  }
 },
 "nbformat": 4,
 "nbformat_minor": 5
}
