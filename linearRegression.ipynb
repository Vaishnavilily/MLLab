{
 "cells": [
  {
   "cell_type": "code",
   "execution_count": 2,
   "id": "893b42c6-b872-4dae-89af-922e8cb6a9fa",
   "metadata": {},
   "outputs": [],
   "source": [
    "# Linear Regression\n",
    "import numpy as np\n",
    "import pandas as pd\n",
    "from sklearn.linear_model import LinearRegression\n",
    "from sklearn.metrics import mean_squared_error,mean_absolute_error\n",
    "from sklearn.model_selection import train_test_split"
   ]
  },
  {
   "cell_type": "code",
   "execution_count": 3,
   "id": "896cf106-10df-4017-af51-2e770f633eb5",
   "metadata": {},
   "outputs": [],
   "source": [
    "df = pd.read_csv(\"Advertising.csv\")\n",
    "X = df.drop(\"sales\",axis=1)\n",
    "y = df['sales']\n",
    "X_train,X_test,y_train,y_test = train_test_split(X,y,test_size = 0.3,random_state=101)\n",
    "model = LinearRegression()\n",
    "model.fit(X_train,y_train)\n",
    "test_pred = model.predict(X_test)\n"
   ]
  },
  {
   "cell_type": "code",
   "execution_count": 4,
   "id": "2f5125f5-10e4-45da-a39a-de3bb9afa68e",
   "metadata": {},
   "outputs": [
    {
     "name": "stdout",
     "output_type": "stream",
     "text": [
      "Mean Absolute Error: 1.2540514653467942\n",
      "Mean Squared Error: 2.3965319464848958\n",
      "Root Mean Squared Error: 1.5480736243747892\n"
     ]
    }
   ],
   "source": [
    "MAE = mean_absolute_error(y_test,test_pred)\n",
    "MSE = mean_squared_error(y_test,test_pred)\n",
    "RMSE = np.sqrt(MSE)\n",
    "print(\"Mean Absolute Error:\",MAE)\n",
    "print(\"Mean Squared Error:\",MSE)\n",
    "print(\"Root Mean Squared Error:\",RMSE)"
   ]
  },
  {
   "cell_type": "code",
   "execution_count": null,
   "id": "7a8d4afc-7343-46f5-b8e2-c3746d92bdb3",
   "metadata": {},
   "outputs": [],
   "source": []
  }
 ],
 "metadata": {
  "kernelspec": {
   "display_name": "Python 3 (ipykernel)",
   "language": "python",
   "name": "python3"
  },
  "language_info": {
   "codemirror_mode": {
    "name": "ipython",
    "version": 3
   },
   "file_extension": ".py",
   "mimetype": "text/x-python",
   "name": "python",
   "nbconvert_exporter": "python",
   "pygments_lexer": "ipython3",
   "version": "3.12.8"
  }
 },
 "nbformat": 4,
 "nbformat_minor": 5
}
